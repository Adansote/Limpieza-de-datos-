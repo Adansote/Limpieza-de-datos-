{
  "nbformat": 4,
  "nbformat_minor": 0,
  "metadata": {
    "colab": {
      "provenance": [],
      "authorship_tag": "ABX9TyNxceORm5cKafuWwlzEQ63g",
      "include_colab_link": true
    },
    "kernelspec": {
      "name": "python3",
      "display_name": "Python 3"
    },
    "language_info": {
      "name": "python"
    }
  },
  "cells": [
    {
      "cell_type": "markdown",
      "metadata": {
        "id": "view-in-github",
        "colab_type": "text"
      },
      "source": [
        "<a href=\"https://colab.research.google.com/github/Adansote/Limpieza-de-datos-/blob/main/Limpieza_datos_pythonJupyter.ipynb\" target=\"_parent\"><img src=\"https://colab.research.google.com/assets/colab-badge.svg\" alt=\"Open In Colab\"/></a>"
      ]
    },
    {
      "cell_type": "code",
      "execution_count": null,
      "metadata": {
        "id": "3cMkSSLjEPHP"
      },
      "outputs": [],
      "source": [
        "import pandas as pd\n",
        "import numpy as np\n",
        "import matplotlib.pyplot as plt\n",
        "import seaborn as sns"
      ]
    },
    {
      "cell_type": "markdown",
      "source": [
        "**importando datos csv**"
      ],
      "metadata": {
        "id": "EXkNjHerHTF4"
      }
    },
    {
      "cell_type": "code",
      "source": [
        "data = pd.read_csv(\"dataset_banco.csv\")"
      ],
      "metadata": {
        "id": "9jhWo5aWHZJO"
      },
      "execution_count": null,
      "outputs": []
    },
    {
      "cell_type": "markdown",
      "source": [
        " **lectura del data set con un read_csv**"
      ],
      "metadata": {
        "id": "LhRT6JGUGRsQ"
      }
    },
    {
      "cell_type": "markdown",
      "source": [
        "usar un shape para  ver el tamaño de los datos"
      ],
      "metadata": {
        "id": "_qAVVtMDG3oD"
      }
    },
    {
      "cell_type": "code",
      "source": [
        "print(data.shape)"
      ],
      "metadata": {
        "id": "uLSOlBK_HADj"
      },
      "execution_count": null,
      "outputs": []
    },
    {
      "cell_type": "markdown",
      "source": [
        "**metodo head para imprimir las primeras 5 lineas**"
      ],
      "metadata": {
        "id": "1iC0zFjrHrmR"
      }
    },
    {
      "cell_type": "code",
      "source": [
        "data.head()"
      ],
      "metadata": {
        "id": "6ITylt8OHycl"
      },
      "execution_count": null,
      "outputs": []
    },
    {
      "cell_type": "markdown",
      "source": [
        "** con la funcion info nostrae el tipo de dato de cada columna y la cantidad de columnas que contiene el archivo**"
      ],
      "metadata": {
        "id": "XiVlAQtfH_1i"
      }
    },
    {
      "cell_type": "code",
      "source": [
        "data.info()"
      ],
      "metadata": {
        "id": "Wt56eI11IJBL"
      },
      "execution_count": null,
      "outputs": []
    },
    {
      "cell_type": "markdown",
      "source": [
        "**Limpieza de datos proceso **\n",
        "\n",
        "*   El manejo de datos faltantes (que como lo acabamos de ver están presentes en nuestro set de datos)\n",
        "*  La eliminación de columnas irrelevantes (es decir, columnas que no contienen información relacionada con el problema que queremos resolver)\n",
        "\n",
        "*   El manejo de registros (filas) repetidos\n",
        "*   el manejo de registros(filas )repetidas\n",
        "\n",
        "*   el manejo de valores extremos (outliers) para el caso de las variables (columnas ) numericas\n",
        "*  La limpieza de errores tipográficos que puedan existir en las variables categóricas\n",
        "\n",
        "\n",
        "\n",
        "\n",
        "\n"
      ],
      "metadata": {
        "id": "MyATPZ90IS7t"
      }
    },
    {
      "cell_type": "markdown",
      "source": [
        "Cuando tenemos un dato faltante en Pandas este dato es marcado como «NaN» (o «Not A Number») y por tanto podemos implementar la eliminación de estas filas usando el método «dropna()» de Pandas:"
      ],
      "metadata": {
        "id": "aXc1U0_OJPCg"
      }
    },
    {
      "cell_type": "code",
      "source": [
        "data.dropna(inplace=True)"
      ],
      "metadata": {
        "id": "0eZY346RJQLF"
      },
      "execution_count": null,
      "outputs": []
    },
    {
      "cell_type": "markdown",
      "source": [
        "**Para verificar que se han eliminado correctamente los registros incompletos podemos usar nuevamente el método «info()» obteniendo este resultado:e**"
      ],
      "metadata": {
        "id": "3sZFEoSTJUFY"
      }
    },
    {
      "cell_type": "code",
      "source": [
        "data.info()"
      ],
      "metadata": {
        "id": "l5FIbTUEJfTK"
      },
      "execution_count": null,
      "outputs": []
    },
    {
      "cell_type": "markdown",
      "source": [
        "**Eliminación de columnas irrelevantes**\n",
        "\n",
        "\n",
        "*   No contiene información relacionada con el problema que queremos resolver. Por ejemplo en este caso podría ser una columna que no guarde relación con el posible perfil del cliente (deporte favorito, hobbies, comida favorita, etc.)\n",
        "*   Una columna categórica pero con un sólo nivel. Por ejemplo si en la columna «job» solo tuviésemos el nivel «unknown» esta columna no aporta información que nos permita diferenciar un perfil de cliente de otro\n",
        "\n",
        "*  Una columna numérica pero con un sólo valor. Por ejemplo si en la columna «edad» todos los valores fuesen iguales a 50 ocurriría algo similar al caso anterior, pues no aportaría información para diferencial unos clientes de otros\n",
        "*   Columnas con información redundante. Por ejemplo si además de las columnas «month» y «day» tuviésemos la columna «month-day», esta última columna no aportaría información adicional al análisis\n",
        "\n",
        "\n",
        "\n"
      ],
      "metadata": {
        "id": "mFqnequTJka_"
      }
    },
    {
      "cell_type": "markdown",
      "source": [
        "Comencemos analizando entonces las columnas categóricas. Primero definamos una lista de Python que contenga los nombres de estas columnas:"
      ],
      "metadata": {
        "id": "Y5QfTCy_KR_K"
      }
    },
    {
      "cell_type": "code",
      "source": [
        "cols_cat =['job', 'marital', 'education', 'default', 'housing',\n",
        "       'loan', 'contact', 'month', 'poutcome', 'y']"
      ],
      "metadata": {
        "id": "p9gHF60DKak1"
      },
      "execution_count": null,
      "outputs": []
    },
    {
      "cell_type": "markdown",
      "source": [
        "Y ahora hagamos uso del método «nunique()» aplicado a cada columna. Este método nos permite determinar los diferentes niveles de cada variable categórica:"
      ],
      "metadata": {
        "id": "VZA-pEhFKkPQ"
      }
    },
    {
      "cell_type": "code",
      "source": [
        "for col in cols_cat:\n",
        "    print(f\"{col}: {data[col].nunique()}subniveles\")"
      ],
      "metadata": {
        "id": "xG5g0B04Kmu5"
      },
      "execution_count": null,
      "outputs": []
    },
    {
      "cell_type": "markdown",
      "source": [
        "Hagamos algo similar pero para las variables numéricas. En este caso podemos usar el método «describe()» que nos mostrará en pantalla una tabla sintetizando algunos parámetros estadísticos básicos de dichas variables numéricas (como la media, el rango intercuartiles y la desviación estándar, entre otras).\n",
        "\n",
        "Así, una variable numérica que contenga un sólo valor nos arrojará una desviación estándar igual a cero y podría ser eliminada:"
      ],
      "metadata": {
        "id": "UNox4z6TK2mo"
      }
    },
    {
      "cell_type": "code",
      "source": [
        "data.describe()"
      ],
      "metadata": {
        "id": "ojYXUk4tK6De"
      },
      "execution_count": null,
      "outputs": []
    },
    {
      "cell_type": "markdown",
      "source": [
        "Y al observar la fila «std» (que contiene las diferentes desviaciones estándar) podemos verificar que ninguno de los valores es iguales a cero. Así que en este caso tampoco eliminaremos ninguna columna numérica."
      ],
      "metadata": {
        "id": "b16Giu7VLDlN"
      }
    },
    {
      "cell_type": "markdown",
      "source": [
        "**Detección y manejo de registros repetidos**"
      ],
      "metadata": {
        "id": "2XszJHqKLFty"
      }
    },
    {
      "cell_type": "code",
      "source": [
        "print(f\"Tamaño del set antes de eliminar las filas repetidas:{data.shape} \")\n",
        "data.drop_duplicates(inplace=True)\n",
        "print(f\"Tamaño del set despues de eliminar las filas repetidas:{data.shape} \")\n"
      ],
      "metadata": {
        "id": "73EmII9PLIsF"
      },
      "execution_count": null,
      "outputs": []
    },
    {
      "cell_type": "markdown",
      "source": [
        "**Detección y manejo de valores extremos**\n",
        "Los valores extremos (u «outliers») son aquellos datos atípicos que se salen del rango «normal» de la mayoría de los datos. Y estos valores extremos pueden estar presentes tanto en las variables numéricas como en las variables categóricas.\n",
        "\n",
        "Por ejemplo, un valor extremo en una variable como la edad (columna «age») podría ser por ejemplo un valor negativo (¡pues la edad no puede ser una cantidad negativa!) o podría ser también una edad de, por ejemplo, 150 años.\n",
        "Y en una variable categórica como la columna «job» (tipo de trabajo) podría ser un tipo de trabajo poco frecuente, es decir que aparezca muy pocas veces en la totalidad del set de datos.\n",
        "Así que usaremos estos «boxplots» para verificar si existen valores extremos en las variables numéricas de nuestro set de datos. Comencemos definiendo una lista de Python con estas variables numéricas:\n"
      ],
      "metadata": {
        "id": "yVlQx5kXLvGY"
      }
    },
    {
      "cell_type": "code",
      "source": [
        "cols_num =['age', 'balance', 'day', 'duration', 'campaign',\n",
        "            'pdays', 'previous']"
      ],
      "metadata": {
        "id": "iBwv10juMANB"
      },
      "execution_count": null,
      "outputs": []
    },
    {
      "cell_type": "markdown",
      "source": [
        "Y ahora usemos la función «boxplot()» de la librería Seaborn para generar un gráfico de caja para cada una de las variables numéricas:"
      ],
      "metadata": {
        "id": "307wPGn7MHhQ"
      }
    },
    {
      "cell_type": "code",
      "source": [
        "fig, ax =plt.subplots(nrows=7, ncols=1, figsize=(8, 30))\n",
        "fig.subplots_adjust(hspace=0.5)\n",
        "for i, col in enumerate(cols_num):\n",
        "    sns.boxplot(data=data, x=col, ax=ax[i])"
      ],
      "metadata": {
        "id": "4-Rf3hlIMIXZ"
      },
      "execution_count": null,
      "outputs": []
    },
    {
      "cell_type": "markdown",
      "source": [
        "En este caso vemos que cada gráfico contiene precisamente una caja (de allí el nombre de «boxplots») de color azul. Los límites de esta caja corresponden a los cuartiles 1 y 3 entre los cuales se encuentra el 50% de los datos.\n",
        "\n",
        "Además, más allá de estos límites de la caja, a izquierda y derecha, encontramos los «whiskers» o «bigotes» que son los límites por debajo y por encima de los cuales tendremos precisamente valores extremos (estos «whiskers» se ven claramente por ejemplo en los gráficos para las variables «day» y «duration»).\n",
        "\n",
        "Y estos valores extremos son esencialmente los puntos que aparecen por fuera de estos «bigotes». Así que interpretando el contenido de estos gráficos de caja podemos observar lo siguiente:"
      ],
      "metadata": {
        "id": "DEV8HuDEMpGw"
      }
    },
    {
      "cell_type": "markdown",
      "source": [
        "\n",
        "\n",
        "*   Para la variable «age» tenemos valores extremos que corresponden a edades mucho mayores a 100 años\n",
        "*   Para la variable «duration» (la duración del depósito a término adquirida por el cliente) existen valores negativos\n",
        "\n",
        "*  Y en la variable «previous» (que indica el número de veces que la persona ha sido contactada antes de esta campaña) se tiene un valor extremadamente alto (cercano a 300)\n",
        "\n",
        "\n",
        "\n",
        "\n"
      ],
      "metadata": {
        "id": "Ly5_k_u9M0Ql"
      }
    },
    {
      "cell_type": "markdown",
      "source": [
        "**Estos son precisamente valores extremos que debemos manejar. Y en este caso existen dos alternativas:**"
      ],
      "metadata": {
        "id": "djRPhD9JM_gL"
      }
    },
    {
      "cell_type": "markdown",
      "source": [
        "\n",
        "\n",
        "*  La eliminación de estos registros\n",
        "*  El recorte, que implica cambiar los valores extremos para llevarlos al rango «normal» de valores\n",
        "*   La imputación usando información de registros similares\n",
        "\n",
        "Como en este caso tenemos muy pocos valores extremos en cada una de las variables mencionadas, resulta suficiente usar la técnica de eliminación.\n",
        "\n",
        "\n"
      ],
      "metadata": {
        "id": "imwhw1h-NDeG"
      }
    },
    {
      "cell_type": "markdown",
      "source": [
        "Comencemos eliminando los valores extremos en la variable edad (columna «age») lo cual equivale a preservar únicamente los sujetos cuyas edades sean, por ejemplo, menores o iguales a 100. Vamos a imprimir el tamaño del dataset antes y después de la eliminación para verificar los cambios en la cantidad total de datos:"
      ],
      "metadata": {
        "id": "6c3MYpJSNO8r"
      }
    },
    {
      "cell_type": "code",
      "source": [
        "print(f\"Tamaño del set antes de eliminar los registros de edad:{data.shape} \")\n",
        "data = data[data['age'] <= 100]\n",
        "print(f\"Tamaño del set despues de eliminar los registros de edad :{data.shape} \")"
      ],
      "metadata": {
        "id": "DptjvtSTNQbe"
      },
      "execution_count": null,
      "outputs": []
    },
    {
      "cell_type": "markdown",
      "source": [
        "donde en la línea 2 hemos simplemente establecido la condición «data[‘age’]<=100» para preservar únicamente los registros que se encuentran en el rango normal. Antes de ejecutar esta línea de código teníamos 45.203 registros y después del manejo de estos valores extremos tendremos 45.195 (es decir, hemos eliminado 8 registros)."
      ],
      "metadata": {
        "id": "a1eC6UodNt4m"
      }
    },
    {
      "cell_type": "markdown",
      "source": [
        "Usemos una sintaxis similar pero para preservar duraciones (columna «duration») mayores a cero:"
      ],
      "metadata": {
        "id": "MMXiy1GfNxTF"
      }
    },
    {
      "cell_type": "code",
      "source": [
        "print(f\"Tamaño del set antes de eliminar los registros de duracion:{data.shape} \")\n",
        "data = data[data['duration'] >= 0]\n",
        "print(f\"Tamaño del set despues de eliminar los registros de duracion :{data.shape} \")"
      ],
      "metadata": {
        "id": "k8LhxpEnNy8y"
      },
      "execution_count": null,
      "outputs": []
    },
    {
      "cell_type": "markdown",
      "source": [
        "Y en este caso hemos pasado de 45.195 a 45.190 registros después de la eliminación de estos «outliers»."
      ],
      "metadata": {
        "id": "8oDgT0b4N9yU"
      }
    },
    {
      "cell_type": "markdown",
      "source": [
        "Y finalmente eliminemos las filas cuyo valor en la columna «previos» es mayor que 100 (lo cual equivale a preservar los registros con valores menores o iguales a 100):"
      ],
      "metadata": {
        "id": "fqfs6DC3N-rj"
      }
    },
    {
      "cell_type": "code",
      "source": [
        "print(f\"Tamaño del set antes de eliminar los registros de previos:{data.shape} \")\n",
        "data = data[data['previous'] <= 100]\n",
        "print(f\"Tamaño del set despues de eliminar los registros de previos :{data.shape} \")"
      ],
      "metadata": {
        "id": "f1ZA68yZOAQZ"
      },
      "execution_count": null,
      "outputs": []
    },
    {
      "cell_type": "markdown",
      "source": [
        "Y en este último caso partimos de 45.190 para tras la eliminación obtener 45.189."
      ],
      "metadata": {
        "id": "ZBbjVfnGOHTk"
      }
    },
    {
      "cell_type": "markdown",
      "source": [
        "** Corrección de errores tipográficos o equivalencias**"
      ],
      "metadata": {
        "id": "9b40Yg_uOOm0"
      }
    },
    {
      "cell_type": "markdown",
      "source": [
        "Los errores tipográficos pueden corresponder a sub-niveles dentro de una variable categórica que estén escritos incorrectamente. Por ejemplo, podríamos tener un nivel como «mobile» en la variable «contact» y un sub-nivel similar pero escrito incorrectamente, como por ejemplo «mobiiile».\n",
        "\n",
        "Por otra parte, pueden aparecer sub-niveles como «unknown» y «UNK» que para nosotros son equivalentes pero que para nuestro programa parecerían diferentes."
      ],
      "metadata": {
        "id": "LF42VcvAOSTP"
      }
    },
    {
      "cell_type": "markdown",
      "source": [
        "Así que podemos usar el método «value_counts()» aplicado sobre cada columna para imprimir en pantalla todos sus sub-niveles:\n",
        "\n"
      ],
      "metadata": {
        "id": "p62Uo6N-OVEX"
      }
    },
    {
      "cell_type": "code",
      "source": [
        "for col in cols_cat:\n",
        "    print(data[col].value_counts())\n",
        "    print(\"-\"*20)"
      ],
      "metadata": {
        "id": "alZkUA7eOWvD"
      },
      "execution_count": null,
      "outputs": []
    },
    {
      "cell_type": "markdown",
      "source": [
        "En primer lugar podemos observar que hay sub-niveles con el mismo nombre pero escritos en minúscula, en mayúscula o con la primera letra en mayúscula (por ejemplo en la variable «job» donde tenemos «self-employed» y «Self-employed» o «management» y «MANAGEMENT»)."
      ],
      "metadata": {
        "id": "CJooqRbVOpD7"
      }
    },
    {
      "cell_type": "markdown",
      "source": [
        "Unifiquemos esta representación inicialmente representando todo el texto en minúsculas usando el método «str.lower()»:"
      ],
      "metadata": {
        "id": "axOptiPWOq_8"
      }
    },
    {
      "cell_type": "code",
      "source": [
        "for column in data.columns:\n",
        "  # representar minusculas  solo si loa columna es categorica\n",
        "  if column in cols_cat:\n",
        "    data[column] = data[column].str.lower()"
      ],
      "metadata": {
        "id": "3P3KsUf2Ou-m"
      },
      "execution_count": null,
      "outputs": []
    },
    {
      "cell_type": "markdown",
      "source": [
        "Ejecutemos el bloque de código anterior nuevamente para verificar que estos cambios ya aparecen reflejados en los sub-niveles de cada variable categórica:"
      ],
      "metadata": {
        "id": "Dsc4MN-TPJqF"
      }
    },
    {
      "cell_type": "code",
      "source": [
        "for col in cols_cat:\n",
        "  print(data[col].value_counts())\n",
        "  print(\"-\"*20)"
      ],
      "metadata": {
        "id": "PYDAyPjPPKvM"
      },
      "execution_count": null,
      "outputs": []
    },
    {
      "cell_type": "markdown",
      "source": [
        "Y podemos verificar que ya hemos corregido estas inconsistencias:"
      ],
      "metadata": {
        "id": "TgSqlsR4PWbw"
      }
    },
    {
      "cell_type": "markdown",
      "source": [
        "Ahora analicemos cada variable de manera individual para verificar otras posibles inconsistencias:\n",
        "\n",
        "«job»: se tienen equivalencias entre «admin.» y «administrative»\n",
        "«marital»: se tienen equivalencias entre «divorced» y «div.»\n",
        "«education»: se tienen equivalencias entre «secondary» y «sec.» y entre «unknown» y «unk.»\n",
        "«contact»: se tienen equivalencias entre «cellular» y «mobile» y entre «telephone» y «phone»"
      ],
      "metadata": {
        "id": "yVq1O9-UPdok"
      }
    },
    {
      "cell_type": "markdown",
      "source": [
        "Así que lo que nos resta es corregir estas equivalencias. Comencemos con la variable «job» donde reemplazarmos «admin.» por «administrative» usando nuevamente el método «str.replace()»:"
      ],
      "metadata": {
        "id": "oyJKNQgUPe7l"
      }
    },
    {
      "cell_type": "code",
      "source": [
        "data[\"job\"] = data['job'].str.replace(\"admin.\", \"administrative\", regex=False)"
      ],
      "metadata": {
        "id": "BwHMWEwNPmAF"
      },
      "execution_count": null,
      "outputs": []
    },
    {
      "cell_type": "markdown",
      "source": [
        "Hagamos algo similar para la columna «marital», reemplazando «div.» por «divorced»:"
      ],
      "metadata": {
        "id": "MXgmAPQUSpXy"
      }
    },
    {
      "cell_type": "code",
      "source": [
        "data[\"marital\"] = data['marital'].str.replace(\"div.\", \"divorced\", regex=False)\n"
      ],
      "metadata": {
        "id": "YgPAzEcJSsMC"
      },
      "execution_count": null,
      "outputs": []
    },
    {
      "cell_type": "markdown",
      "source": [
        "Y también usaremos una sintaxis similar para reemplazar «sec.» por «secondary» en la columna «education»:"
      ],
      "metadata": {
        "id": "J1LGqTreSyP5"
      }
    },
    {
      "cell_type": "code",
      "source": [
        "data[\"education\"] = data['education'].str.replace(\"sec.\", \"secondary\", regex=False)"
      ],
      "metadata": {
        "id": "nrTkVvNbS2Za"
      },
      "execution_count": null,
      "outputs": []
    },
    {
      "cell_type": "markdown",
      "source": [
        "Y si en esta misma columna queremos reemplazar «unk» por «unknown» podríamos usar el mismo enfoque anterior o esta alternativa (usando el método «loc»):"
      ],
      "metadata": {
        "id": "o57v9K4KS_g6"
      }
    },
    {
      "cell_type": "code",
      "source": [
        "data.loc[data['education']== \"unk\", \"education\"] = \"unknown\""
      ],
      "metadata": {
        "id": "gtse6O5-TDxI"
      },
      "execution_count": null,
      "outputs": []
    },
    {
      "cell_type": "markdown",
      "source": [
        "Y usemos este mismo enfoque para reemplazar «phone» por «telephone» y «mobile» por «cellular» en la columna «contact»:"
      ],
      "metadata": {
        "id": "lMOHqAfaTQz3"
      }
    },
    {
      "cell_type": "code",
      "source": [
        "data.loc[data[\"contact\"] == \"phone\", \"contact\"] = \"telephone\"\n",
        "data.loc[data[\"contact\"] == \"mobile\", \"contact\"] = \"cellular\""
      ],
      "metadata": {
        "id": "7UMZRyPETUAW"
      },
      "execution_count": null,
      "outputs": []
    },
    {
      "cell_type": "markdown",
      "source": [
        "«job»: «self-employed» y «Self-employed», «retired» y «Retired» y «management» y «MANAGEMENT»"
      ],
      "metadata": {
        "id": "BmIxASgnThwy"
      }
    },
    {
      "cell_type": "markdown",
      "source": [
        "** Limpieza de datos completada**"
      ],
      "metadata": {
        "id": "Gc8cXcV-Trp5"
      }
    }
  ]
}